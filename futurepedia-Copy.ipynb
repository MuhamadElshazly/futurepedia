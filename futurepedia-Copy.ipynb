{
 "cells": [
  {
   "cell_type": "code",
   "execution_count": 38,
   "id": "0ea28bb1",
   "metadata": {},
   "outputs": [],
   "source": [
    "from selenium import webdriver\n",
    "from selenium.webdriver.common.keys import Keys\n",
    "from bs4 import BeautifulSoup\n",
    "from time import sleep\n",
    "import csv\n",
    "import xlsxwriter\n",
    "from selenium.webdriver.common.by import By\n",
    "from selenium.webdriver.support.ui import WebDriverWait\n",
    "from selenium.webdriver.support import expected_conditions as ec\n",
    "import pandas as pd\n"
   ]
  },
  {
   "cell_type": "code",
   "execution_count": 53,
   "id": "2a3e15fe",
   "metadata": {},
   "outputs": [],
   "source": [
    "##############################\n",
    "# opening to website\n",
    "##############################\n",
    "driver= webdriver.Chrome()\n",
    "sleep(2)\n",
    "url = 'https://www.futurepedia.io/'\n",
    "driver.get(url)\n",
    "sleep(10)"
   ]
  },
  {
   "cell_type": "code",
   "execution_count": 54,
   "id": "f087a1be",
   "metadata": {},
   "outputs": [],
   "source": [
    "##############################\n",
    "# scrolling down the page to get all \n",
    "##############################\n",
    "for j in range(0,100):\n",
    "    driver.execute_script(\"window.scrollTo(0, document.body.scrollHeight);\")\n",
    "    sleep(2)"
   ]
  },
  {
   "cell_type": "code",
   "execution_count": null,
   "id": "a6586a8b",
   "metadata": {},
   "outputs": [],
   "source": [
    "page_source = BeautifulSoup(driver.page_source)\n",
    "page_source"
   ]
  },
  {
   "cell_type": "code",
   "execution_count": null,
   "id": "cbee5784",
   "metadata": {},
   "outputs": [],
   "source": [
    "names = page_source.find_all(\"h3\",{\"class\":\"MuiTypography-root MuiTypography-h6 MuiTypography-alignLeft css-1xoyy38\"})\n",
    "#print(profiles)\n",
    "sleep(2)\n",
    "\n",
    "all_names = []\n",
    "for name in names:\n",
    "        name_x = name.get_text().strip()\n",
    "        all_names.append(name_x)\n",
    "        #print(country_x)\n",
    "\n",
    "print(all_names)\n",
    "print(len(all_names))"
   ]
  },
  {
   "cell_type": "code",
   "execution_count": null,
   "id": "f252a76a",
   "metadata": {},
   "outputs": [],
   "source": []
  },
  {
   "cell_type": "code",
   "execution_count": 109,
   "id": "2ddd2f94",
   "metadata": {},
   "outputs": [
    {
     "name": "stdout",
     "output_type": "stream",
     "text": [
      "['143', '66', '46', '41', '49', '58', '11', '86', '29', '54', '14', '70', '48', '93', '6', '29', '29', '27', '85', '48', '40', '3', '58', '114', '33', '2', '17', '10', '56', '32', '110', '17', '5', '21', '5', '8', '4', '7', '3', '9', '20', '10', '44', '14', '5', '13', '7', '23', '19', '6', '26', '26', '2', '31', '63', '12', '32', '28', '6', '26', '56', '47', '34', '28', '9', '4', '5', '30', '18', '17', '23', '13', '12', '31', '11', '20', '29', '8', '5', '46', '22', '10', '6', '32', '22', '7', '17', '11', '24', '10', '11', '19', '4', '10', '18', '10', '63', '13', '65', '37', '13', '5', '51', '4', '13', '33', '15', '7', '10', '48', '16', '7', '19', '4', '13', '6', '19', '9', '40', '13', '36', '33', '15', '6', '27', '10', '34', '43', '24', '21', '21', '9', '13', '45', '14', '4', '13', '6', '17', '35', '134', '5', '16', '3', '6', '12', '30', '3', '2', '15', '24', '9', '8', '31', '39', '30', '19', '22', '12', '10', '55', '36', '12', '28', '100', '9', '22', '5', '16', '25', '9', '9', '4', '99', '27', '1', '5', '5', '21', '11', '12', '12', '5', '18', '30', '9', '9', '9', '71', '3', '34', '28', '44', '3', '19', '20', '24', '25', '6', '22', '12', '1', '41', '9', '7', '41', '8', '24', '9', '17', '4', '14', '21', '49', '26', '13', '10', '8', '18', '16', '11', '7', '16', '21', '4', '32', '7', '24', '6', '8', '36', '10', '9', '19', '3', '5', '7', '7', '18', '38', '1', '5', '6', '30', '53', '2', '27', '3', '16', '7', '2', '17', '22', '12', '6', '5', '5', '3', '62', '10', '22', '39', '12', '2', '7', '7', '14', '15', '6', '22', '8', '3', '13', '37', '58', '48', '3', '2', '7', '8', '3', '3', '14', '4', '6', '6', '16', '23', '30', '38', '5', '13', '4', '23', '10', '10', '4', '1', '4', '19', '4', '7', '12', '6', '2', '52', '6', '6', '4', '38', '1', '24', '2', '1', '18', '37', '53', '21', '29', '24', '1', '29', '8', '3', '3', '2', '7', '7', '21', '29', '4', '25', '5', '27', '5', '30', '12', '3', '22', '7', '7', '48', '9', '6', '17', '13', '19', '1', '6', '15', '10', '16']\n",
      "352\n"
     ]
    }
   ],
   "source": [
    "\n",
    "favouriteds = page_source.find_all(\"div\",{\"style\":\"display: flex; justify-content: space-between; align-items: center;\"})\n",
    "\n",
    "all_favouriteds = []\n",
    "for favourited in favouriteds:\n",
    "        favourited_x = favourited.get_text().strip()\n",
    "        all_favouriteds.append(favourited_x)\n",
    "        #print(country_x)\n",
    "\n",
    "print(all_favouriteds)\n",
    "print(len(all_favouriteds))"
   ]
  },
  {
   "cell_type": "markdown",
   "id": "1ff9b177",
   "metadata": {},
   "source": [
    "# get name + fav\n",
    "names_favouriteds = page_source.find(\"div\",{\"style\":\"display:flex;justify-content:space-between;cursor:pointer\"})\n",
    "#print(names_favouriteds)\n",
    "all_names = []\n",
    "all_favouriteds = []\n",
    "for nam,fav in names_favouriteds:\n",
    "    \n",
    "    fav_x = fav.get_text().strip()\n",
    "    nam_x = nam.get_text().strip()\n",
    "    \n",
    "    if nam_x == '':\n",
    "        all_favouriteds.append(fav_x)\n",
    "    \n",
    "    if fav_x == '':\n",
    "        all_names.append(nam_x)\n",
    "\n",
    "\n",
    "print(all_names)\n",
    "print(len(all_names))\n",
    "print(all_favouriteds)\n",
    "print(len(all_favouriteds))"
   ]
  },
  {
   "cell_type": "code",
   "execution_count": null,
   "id": "a5c5cbb6",
   "metadata": {},
   "outputs": [],
   "source": [
    "# MuiTypography-root MuiTypography-body1 MuiTypography-alignLeft ellipsis css-s2j11\n",
    "bodies = page_source.find_all(\"p\",{\"class\":\"MuiTypography-root MuiTypography-body1 MuiTypography-alignLeft ellipsis css-s2j11\"})\n",
    "\n",
    "all_bodies = []\n",
    "for body in bodies:\n",
    "        body_x = body.get_text().strip()\n",
    "        all_bodies.append(body_x)\n",
    "        #print(country_x)\n",
    "\n",
    "print(all_bodies)\n",
    "print(len(all_bodies))"
   ]
  },
  {
   "cell_type": "markdown",
   "id": "f6b4c7e2",
   "metadata": {},
   "source": [
    "for profile in profiles:\n",
    "        a = profile.select(\"a\")\n",
    "        for i in a :\n",
    "            profile_URL = i.get('href')\n",
    "            if profile_URL not in all_profile_URL:\n",
    "                all_profile_URL.append(profile_URL)\n",
    "                print(profile_URL) \n"
   ]
  },
  {
   "cell_type": "code",
   "execution_count": 133,
   "id": "ba8b9da6",
   "metadata": {},
   "outputs": [
    {
     "name": "stdout",
     "output_type": "stream",
     "text": [
      "['https://writesonic.com?via=futurepedia', 'https://fliki.ai/?via=futurepedia', 'https://palette.fm/?utm_source=futurepedia', 'https://podcast.ai/?utm_source=futurepedia', 'https://www.profilepicture.ai/?via=futurepedia', 'https://gomoonbeam.com/?via=futurepedia-io', 'https://www.copy.ai/?via=futurepedia', 'https://www.midjourney.com/home/?utm_source=futurepedia', 'https://andisearch.com/?utm_source=futurepedia', 'https://looka.grsm.io/futurepedia', 'https://try.quillbot.com/futurepedia', 'https://creator.nightcafe.studio/?utm_source=futurepedia', 'https://hypotenuse.ai?via=futurepedia', 'https://stablehorde.net?utm_source=futurepedia', 'https://endel.io/?utm_source=futurepedia', 'https://coqui.ai/?utm_source=futurepedia', 'https://www.harmonai.org/?utm_source=futurepedia', 'https://designer.microsoft.com/?utm_source=futurepedia', 'https://www.notion.so/product/ai?wr=99b4081a307c355d&utm_source=notionClient&utm_medium=copyButton&utm_campaign=ai-beta&utm_content=share', 'https://pollinations.ai/?utm_source=futurepedia', 'https://interiorai.com/?utm_source=futurepedia', 'https://www.peppertype.ai/?utm_source=futurepedia', 'https://openai.com/dall-e-2/?utm_source=futurepedia', 'https://heyday.xyz/?utm_source=futurepedia', 'https://copymonkey.ai/?via=futurepedia', 'https://www.ai2sql.io/?utm_source=futurepedia', 'https://autodraw.com?utm_source=futurepedia', 'https://www.craiyon.com/?utm_source=futurepedia', 'https://github.com/features/copilot?utm_source=futurepedia', 'https://replit.com/?utm_source=futurepedia', 'https://www.algolia.com/?utm_source=futurepedia', 'https://boomy.com/?utm_source=futurepedia', 'https://namelix.com?utm_source=futurepedia', 'https://avatarai.me/?utm_source=futurepedia', 'https://chat.openai.com/chat', 'https://www.tabnine.com/?utm_source=futurepedia', 'https://www.iamfy.co/studio?utm_source=futurepedia', 'https://pixela.ai?utm_source=futurepedia', 'https://www.canva.com/your-apps/text-to-image?utm_source=futurepedia', 'https://publicprompts.art/?utm_source=futurepedia', 'https://nv-tlabs.github.io/GET3D/', 'https://www.astria.ai?utm_source=futurepedia', 'https://www.sheetai.app/?utm_source=futurepedia', 'https://www.storiesforkids.ai?utm_source=futurepedia', 'https://instantly.ai/', 'https://generated.photos/', 'https://promptbase.com?utm_source=futurepedia', 'https://ebi.ai/', 'https://www.erase.bg/?utm_source=futurepedia', 'https://civitai.com/', 'https://www.scalenut.com/?utm_source=futurepedia', 'https://www.tavus.io/?utm_source=futurepedia', 'https://www.mateai.io?utm_source=futurepedia', 'https://www.botdistrikt.com?utm_source=futurepedia', 'https://magician.design/?utm_source=futurepedia', 'https://hireyay.com?utm_source=futurepedia', 'https://www.scenario.gg/?utm_source=futurepedia', 'https://csm.ai/?utm_source=futurepedia', 'https://quizgecko.com?utm_source=futurepedia', 'https://magiceraser.io?utm_source=futurepedia', 'https://instasalesai.com/?utm_source=futurepedia', 'https://dreampic.ai', 'https://poly.ai/?utm_source=futurepedia', 'https://quasi.market/?utm_source=futurepedia', 'https://portrait.vana.com/?utm_source=futurepedia', 'https://lex.page/?utm_source=futurepedia', 'https://deepl.com/?utm_source=futurepedia', 'https://resumeworded.com/index.php?utm_source=futurepedia', 'https://www.photoroom.com/?utm_source=futurepedia', 'https://brandmark.io/tools/?utm_source=futurepedia', 'https://www.dreamup.com/?utm_source=futurepedia', 'https://uizard.io/?utm_source=futurepedia', 'https://lumalabs.ai/?utm_source=futurepedia', 'https://kore.ai/#?utm_source=futurepedia', 'https://robovision.ai/product/platform/', 'https://www.xokind.com/?utm_source=futurepedia', 'https://subtxt.app/?utm_source=futurepedia', 'https://www.writewithlaika.com/?utm_source=futurepedia', 'https://chai.ml/?utm_source=futurepedia', 'https://www.myheritage.com/ai-time-machine?utm_source=futurepedia', 'https://www.smartscribe.app?utm_source=futurepedia', 'https://whatthediff.ai?utm_source=futurepedia', 'https://www.clickable.so/?utm_source=futurepedia', 'https://beb.ai?utm_source=futurepedia', 'https://bertha.ai/?ref=7444', 'https://dust.tt?utm_source=futurepedia', 'https://www.omneky.com/?utm_source=futurepedia', 'https://www.altered.ai/?utm_source=futurepedia', 'https://play.aidungeon.io/?utm_source=futurepedia', 'https://digitalfirst.ai?utm_source=futurepedia', 'https://namewizard.ai?utm_source=futurepedia', 'https://outplayhq.com/?utm_source=futurepedia', 'https://www.artbreeder.com/?utm_source=futurepedia', 'https://nichesss.com?utm_source=futurepedia', 'https://handyplugins.co/handywriter/?utm_source=futurepedia', 'https://diagram.com/?utm_source=futurepedia', 'https://www.broadn.io/?utm_source=futurepedia', 'https://wellsaidlabs.com/?utm_source=futurepedia', 'https://www.tutorai.me/?utm_source=futurepedia', 'https://stenography.dev/?utm_source=futurepedia', 'https://neon.ai?utm_source=futurepedia', 'https://fabled.ai?utm_source=futurepedia', 'https://durable.ai?utm_source=futurepedia', 'https://gocharlie.ai/?utm_source=futurepedia', 'https://getluna.dev/?utm_source=futurepedia', 'https://freesubtitles.ai/?utm_source=futurepedia', 'https://www.contentfries.com/?utm_source=futurepedia', 'https://www.compose.ai/?utm_source=futurepedia', 'https://pictodream.com/?utm_source=futurepedia', 'https://www.runpod.io/?utm_source=futurepedia', 'https://text-gen.com/?utm_source=futurepedia', 'https://www.webcopilot.co?utm_source=futurepedia', 'https://artflow.ai/?utm_source=futurepedia', 'https://moonbeam.ai/?utm_source=futurepedia', 'https://debuild.app/?utm_source=futurepedia', 'https://www.rephrase.ai/?utm_source=futurepedia', 'https://podcastle.ai/?utm_source=futurepedia', 'https://github.com/facebookresearch/shumai?utm_source=futurepedia', 'https://www.botowski.com?utm_source=futurepedia', 'https://readyplayer.me/?utm_source=futurepedia', 'https://veg3.ai?utm_source=futurepedia', 'https://www.aitimespage.com/ai?utm_source=futurepedia', 'https://www.enzyme.com/?utm_source=futurepedia', 'https://www.frase.io/tools/?utm_source=futurepedia', 'https://www.upword.ai?utm_source=futurepedia', 'https://www.replicastudios.com/?utm_source=futurepedia', 'https://looria.com?utm_source=futurepedia', 'https://www.remove.bg/?utm_source=futurepedia', 'https://www.mygemsouls.com/?utm_source=futurepedia', 'https://www.usetwain.com/?utm_source=futurepedia', 'https://www.blognlp.com?utm_source=futurepedia', 'https://www.ctrify.com/?utm_source=futurepedia', 'https://www.delve.ai/?utm_source=futurepedia', 'https://studio.d-id.com/?utm_source=futurepedia', 'https://www.growthbarseo.com?utm_source=futurepedia', 'https://gptprompter.com?utm_source=futurepedia', 'https://novelai.net/?utm_source=futurepedia', 'https://www.topazlabs.com/topaz-video-ai?utm_source=futurepedia', 'https://www.wombo.art/?utm_source=futurepedia', 'https://getimg.ai?utm_source=futurepedia', 'https://tweethunter.io/?utm_source=futurepedia', 'https://www.aragon.ai/?utm_source=futurepedia', 'https://designs.ai?utm_source=futurepedia', 'https://waymark.com/?utm_source=futurepedia', 'https://www.closerscopy.com/?utm_source=futurepedia', 'https://pinegraph.com/?utm_source=futurepedia', 'https://monitaur.ai/?utm_source=futurepedia', 'https://kafkai.com?utm_source=futurepedia', 'https://neural.love?utm_source=futurepedia', 'https://playgroundai.com/?utm_source=futurepedia', 'https://syntheticaidata.com/?utm_source=futurepedia', 'https://aiduh.com?utm_source=futurepedia', 'https://industrialdatalabs.com/?utm_source=futurepedia', 'https://www.glean.com/?utm_source=futurepedia', 'https://www.fashionadvisorai.com/?utm_source=futurepedia', 'https://www.listnr.tech/?via=futurepedia-io', 'https://rocketai.io/?utm_source=futurepedia', 'https://www.spinrewriter.com/?utm_source=futurepedia', 'https://marketplan.io/?utm_source=futurepedia', 'https://www.spellbook.legal/?utm_source=futurepedia', 'https://www.sudowrite.com/?utm_source=futurepedia', 'https://casetext.com/?utm_source=futurepedia', 'https://www.daydrm.ai/?utm_source=futurepedia', 'https://www.jasper.ai/?utm_source=futurepedia', 'https://libraire.ai/?utm_source=futurepedia', 'https://www.resemble.ai/?utm_source=futurepedia', 'https://www.tattoosai.com/?utm_source=futurepedia', 'https://audioread.com/?utm_source=futurepedia', 'https://writer.com/?utm_source=futurepedia', 'https://diffusion.land?utm_source=futurepedia', 'https://github.com/openai/whisper?utm_source=futurepedia', 'https://contenda.co/?utm_source=futurepedia', 'https://www.descript.com/overdub?utm_source=futurepedia', 'https://www.mage.space/?utm_source=futurepedia', 'https://www.goodlookup.com/?utm_source=futurepedia', 'https://soundraw.io?utm_source=futurepedia', 'https://GETitOUT.io?utm_source=futurepedia', 'https://10web.io/?utm_source=futurepedia', 'https://airoomplanner.com/?utm_source=futurepedia', 'https://daftart.ai/?utm_source=futurepedia', 'https://www.editby.ai/?utm_source=futurepedia', 'https://luciaai.com?utm_source=futurepedia', 'https://excelformulabot.com/?utm_source=futurepedia', 'https://cleanvoice.ai?utm_source=futurepedia', 'https://kaizan.ai/?utm_source=futurepedia', 'https://echo.win?utm_source=futurepedia', 'https://continual.ai/?utm_source=futurepedia', 'https://easy-peasy.ai/?utm_source=futurepedia', 'https://www.sonify.io/?utm_source=futurepedia', 'https://www.thekeys.ai/?utm_source=futurepedia', 'https://typeset.io/?utm_source=futurepedia', 'https://simplified.com/ai-writer/?utm_source=futurepedia', 'https://www.synthesia.io/?utm_source=futurepedia', 'https://runwayml.com/?utm_source=futurepedia', 'https://eyeq.photos/automatic-ai-video-enhancement/?utm_source=futurepedia', 'https://longshot.ai/?utm_source=futurepedia', 'https://symbl.ai/?utm_source=futurepedia', 'https://galactica.org?utm_source=futurepedia', 'https://postaga.com?utm_source=futurepedia', 'https://word-spinner.com/?utm_source=futurepedia', 'https://www.genei.io?utm_source=futurepedia', 'https://artroom.ai/download-app?utm_source=futurepedia', 'https://www.klaviyo.com/product/whats-new/sms-assistant?utm_source=futurepedia', 'https://socialbu.com/?utm_source=futurepedia', 'https://www.getalpaca.io/?utm_source=futurepedia', 'https://www.unscreen.com/?utm_source=futurepedia', 'https://endlessvn.io/?utm_source=futurepedia', 'https://www.smartwriter.ai/?utm_source=futurepedia', 'https://www.colourlab.ai?utm_source=futurepedia', 'https://www.puzzlelabs.ai/?utm_source=futurepedia', 'https://murf.ai?utm_source=futurepedia', 'https://enterpix.app/?utm_source=futurepedia', 'https://theoasis.com/?utm_source=futurepedia', 'https://helloscribe.ai?utm_source=futurepedia', 'https://g3d.ai/?utm_source=futurepedia', 'https://www.dallelist.com?utm_source=futurepedia', 'https://www.play.ht?utm_source=futurepedia', 'https://www.neuronwriter.com/?utm_source=futurepedia', 'https://www.maket.ai/?utm_source=futurepedia', 'https://www.lavender.ai/?utm_source=futurepedia', 'https://mem.ai/?utm_source=futurepedia', 'https://opus.ai/?utm_source=futurepedia', 'https://www.krea.ai/?utm_source=futurepedia', 'https://neural.cam/studio/?utm_source=futurepedia', 'https://www.xembly.com/?utm_source=futurepedia', 'https://elicit.org/?utm_source=futurepedia', 'https://marketplace.visualstudio.com/items?itemName=clippy-ai.clippy-ai', 'https://pictorial.ai?utm_source=futurepedia', 'https://dubverse.ai/?utm_source=futurepedia', 'https://getdost.com?utm_source=futurepedia', 'https://compar.ai?utm_source=futurepedia', 'https://hotpot.ai/?utm_source=futurepedia', 'https://www.stockai.com/?utm_source=futurepedia', 'https://wowto.ai?utm_source=futurepedia', 'https://mubert.com/?utm_source=futurepedia', 'https://mutable.ai/?utm_source=futurepedia', 'https://www.lobe.ai/?utm_source=futurepedia', 'https://fablesimulation.com/?utm_source=futurepedia', 'https://windsor.io?utm_source=futurepedia', 'https://www.hama.app/?utm_source=futurepedia', 'https://www.creatext.ai/?utm_source=futurepedia', 'https://fig.io/user-manual/ai?utm_source=futurepedia', 'https://replicate.com/methexis-inc/img2prompt?utm_source=futurepedia', 'https://anyword.com/?utm_source=futurepedia', 'https://www.soreal.ai?utm_source=futurepedia', 'https://www.colossyan.com/?utm_source=futurepedia', 'https://ortto.com/artificial-intelligence-marketing/?utm_source=futurepedia', 'https://www.topazlabs.com/topaz-photo-ai?utm_source=futurepedia', 'https://bearly.ai/?utm_source=futurepedia', 'https://infranodus.com/?utm_source=futurepedia', 'https://cradle.bio/?utm_source=futurepedia', 'https://playstrict.com/?utm_source=futurepedia', 'https://www.splashmusic.com/?utm_source=futurepedia', 'https://www.vizcom.ai/?utm_source=futurepedia', 'https://www.pipeline.ai/?utm_source=futurepedia', 'https://plugins.jetbrains.com/plugin/20085-codeassist?utm_source=futurepedia', 'https://warmer.ai?utm_source=futurepedia', 'https://www.cogniflow.ai?utm_source=futurepedia', 'https://www.summari.com/?utm_source=futurepedia', 'https://lek.ai/?utm_source=futurepedia', 'https://sceneone.app?utm_source=futurepedia', 'https://beta.character.ai/?utm_source=futurepedia', 'https://www.programming-helper.com/?utm_source=futurepedia', 'https://www.dimensions.ink/?utm_source=futurepedia', 'https://typli.ai?utm_source=futurepedia', 'https://www.quickchat.ai/?utm_source=futurepedia', 'https://copysmith.ai/?utm_source=futurepedia', 'https://prompthero.com/?utm_source=futurepedia', 'https://storypath.app?utm_source=futurepedia', 'https://www.ponzu.gg/?utm_source=futurepedia', 'https://openart.ai/?utm_source=futurepedia', 'https://hourone.ai/?utm_source=futurepedia', 'https://forethought.ai/?utm_source=futurepedia', 'https://alethea.ai/?utm_source=futurepedia', 'https://crawlq.ai/?utm_source=futurepedia', 'https://rytr.me/?utm_source=futurepedia', 'https://www.adept.ai/?utm_source=futurepedia', 'https://Avanty.app?utm_source=futurepedia', 'https://aiartapps.com/?utm_source=futurepedia', 'https://www.seek.ai/?utm_source=futurepedia', 'https://www.typewise.app/?utm_source=futurepedia', 'https://www.ai2image.com/?utm_source=futurepedia', 'https://dreamlike.art/?utm_source=futurepedia', 'https://consensus.app/?utm_source=futurepedia', 'https://www.wordtune.com/?utm_source=futurepedia', 'https://vidyo.ai?utm_source=futurepedia', 'https://www.illostration.com/?utm_source=futurepedia', 'https://soundful.com/?utm_source=futurepedia', 'https://visio.studio/?utm_source=futurepedia', 'https://www.askcodi.com/?utm_source=futurepedia', 'https://katteb.com/en/?utm_source=futurepedia', 'https://www.grahamai.co/?utm_source=futurepedia', 'https://thundercontent.com?utm_source=futurepedia', 'https://xno.ai?utm_source=futurepedia', 'https://lightning.ai/?utm_source=futurepedia', 'https://www.browse.ai/?utm_source=futurepedia', 'https://movietoemoji.netlify.app/#/?utm_source=futurepedia', 'https://www.voicemod.net/?utm_source=futurepedia', 'https://www.summarize.tech/?utm_source=futurepedia', 'https://photoai.me/?utm_source=futurepedia', 'https://www.movio.la/?utm_source=futurepedia', 'https://hiverhq.com/harvey-ai-customer-support?utm_source=futurepedia', 'https://askmybook.com/?utm_source=futurepedia', 'https://unrealme.io?utm_source=futurepedia', 'https://cheatlayer.com?utm_source=futurepedia', 'https://www.moveworks.com/?utm_source=futurepedia', 'https://copymatic.ai/?via=futurepedia', 'https://cohere.io/?utm_source=futurepedia', 'https://summereyes.ai/?utm_source=futurepedia', 'https://openvoiceos.com/?utm_source=futurepedia', 'https://mintlify.com/?utm_source=futurepedia', 'https://ca.la/?utm_source=futurepedia', 'https://www.articleforge.com?utm_source=futurepedia', 'https://bramework.com?utm_source=futurepedia', 'https://www.audiostrip.co.uk/?utm_source=futurepedia', 'https://cowriter.org?utm_source=futurepedia', 'https://contents.com?utm_source=futurepedia', 'https://supermeme.ai?utm_source=futurepedia', 'https://jokelub.com/?utm_source=futurepedia', 'https://www.symanto.com/get-in-touch/?utm_source=futurepedia', 'https://www.aiva.ai/?utm_source=futurepedia', 'https://www.magicreach.ai/?utm_source=futurepedia', 'https://www.mutinyhq.com/?utm_source=futurepedia', 'https://www.othersideai.com/?utm_source=futurepedia', 'https://aisocialbio.com?utm_source=futurepedia', 'https://lexica.art/?utm_source=futurepedia', 'https://www.designify.com/?utm_source=futurepedia', 'https://you.com/?utm_source=futurepedia', 'https://audialab.com/?utm_source=futurepedia', 'https://maya.ai?utm_source=futurepedia', 'https://glasp.co/ai-writing?utm_source=futurepedia', 'https://www.prometheanai.com/?utm_source=futurepedia', 'https://apps.apple.com/us/app/character-creator-digirama/id6444673721', 'https://ideabuddy.com/?utm_source=futurepedia', 'https://letterdrop.com/?utm_source=futurepedia', 'https://www.zevi.ai/?utm_source=futurepedia', 'https://riku.ai/?utm_source=futurepedia', 'https://www.mirageml.com/?utm_source=futurepedia', 'https://www.rosebud.ai/?utm_source=futurepedia', 'https://www.adobe.com/br/sensei.html?utm_source=futurepedia', 'https://nyx.gallery/?utm_source=futurepedia', 'https://dream.page?utm_source=futurepedia', 'https://www.inworld.ai/?utm_source=futurepedia', 'https://www.litrpgadventures.com/?utm_source=futurepedia', 'https://spellbox.app?utm_source=futurepedia', 'https://article.audio?utm_source=futurepedia', 'https://www.regie.ai/?utm_source=futurepedia', 'https://cresta.com/?utm_source=futurepedia', 'https://www.kaedim3d.com/?utm_source=futurepedia', 'https://www.convai.com/?utm_source=futurepedia', 'https://www.hexagram.io/?utm_source=futurepedia', 'https://www.kinetix.tech/?utm_source=futurepedia', 'https://circle.isyourshadowyou.com/Home.html?utm_source=futurepedia', 'https://www.adcreative.ai/?utm_source=futurepedia', 'https://durable.co?utm_source=futurepedia', 'https://withpoly.com/?utm_source=futurepedia', 'https://www.wonderdynamics.com/?utm_source=futurepedia', 'https://ggpredict.io/?utm_source=futurepedia', 'https://ai-writer.com/?utm_source=futurepedia', 'https://www.deepmotion.com/?utm_source=futurepedia', 'https://in3d.io/?utm_source=futurepedia', 'http://elevenlabs.io/?utm_source=futurepedia']\n",
      "362\n"
     ]
    }
   ],
   "source": [
    "# MuiBox-root css-8atqhb\n",
    "links = page_source.find_all(\"div\",{\"class\":\"MuiBox-root css-8atqhb\"})\n",
    "all_links = []\n",
    "for link in links:\n",
    "        a = link.select(\"a\")\n",
    "        for i in a :\n",
    "            link_URL = i.get('href')\n",
    "            all_links.append(link_URL)\n",
    "            \n",
    "print(all_links)\n",
    "print(len(all_links))"
   ]
  },
  {
   "cell_type": "code",
   "execution_count": 136,
   "id": "1ab9a202",
   "metadata": {},
   "outputs": [
    {
     "data": {
      "text/html": [
       "<div>\n",
       "<style scoped>\n",
       "    .dataframe tbody tr th:only-of-type {\n",
       "        vertical-align: middle;\n",
       "    }\n",
       "\n",
       "    .dataframe tbody tr th {\n",
       "        vertical-align: top;\n",
       "    }\n",
       "\n",
       "    .dataframe thead th {\n",
       "        text-align: right;\n",
       "    }\n",
       "</style>\n",
       "<table border=\"1\" class=\"dataframe\">\n",
       "  <thead>\n",
       "    <tr style=\"text-align: right;\">\n",
       "      <th></th>\n",
       "      <th>Company_name</th>\n",
       "      <th>Company_text</th>\n",
       "      <th>Company_link</th>\n",
       "    </tr>\n",
       "  </thead>\n",
       "  <tbody>\n",
       "    <tr>\n",
       "      <th>0</th>\n",
       "      <td>Writesonic</td>\n",
       "      <td>Writesonic is an AI writer that creates SEO-fr...</td>\n",
       "      <td>https://writesonic.com?via=futurepedia</td>\n",
       "    </tr>\n",
       "    <tr>\n",
       "      <th>1</th>\n",
       "      <td>Fliki</td>\n",
       "      <td>Create videos from scripts or blog posts using...</td>\n",
       "      <td>https://fliki.ai/?via=futurepedia</td>\n",
       "    </tr>\n",
       "    <tr>\n",
       "      <th>2</th>\n",
       "      <td>Palette.fm</td>\n",
       "      <td>Colorize Black and White Pictures\\nAutomatic, ...</td>\n",
       "      <td>https://palette.fm/?utm_source=futurepedia</td>\n",
       "    </tr>\n",
       "    <tr>\n",
       "      <th>3</th>\n",
       "      <td>Podcast</td>\n",
       "      <td>The AI-generated podcast.</td>\n",
       "      <td>https://podcast.ai/?utm_source=futurepedia</td>\n",
       "    </tr>\n",
       "    <tr>\n",
       "      <th>4</th>\n",
       "      <td>Profile Picture AI</td>\n",
       "      <td>Create your perfect profile picture with AI.\\n...</td>\n",
       "      <td>https://www.profilepicture.ai/?via=futurepedia</td>\n",
       "    </tr>\n",
       "    <tr>\n",
       "      <th>...</th>\n",
       "      <td>...</td>\n",
       "      <td>...</td>\n",
       "      <td>...</td>\n",
       "    </tr>\n",
       "    <tr>\n",
       "      <th>357</th>\n",
       "      <td>GGPredict</td>\n",
       "      <td>Raise your CS:GO skills with the power of AI-g...</td>\n",
       "      <td>https://ggpredict.io/?utm_source=futurepedia</td>\n",
       "    </tr>\n",
       "    <tr>\n",
       "      <th>358</th>\n",
       "      <td>AI-Writer</td>\n",
       "      <td>AI-Writer is the most accurate content generat...</td>\n",
       "      <td>https://ai-writer.com/?utm_source=futurepedia</td>\n",
       "    </tr>\n",
       "    <tr>\n",
       "      <th>359</th>\n",
       "      <td>DeepMotion</td>\n",
       "      <td>Animate 3D lets you turn videos into 3D animat...</td>\n",
       "      <td>https://www.deepmotion.com/?utm_source=futurep...</td>\n",
       "    </tr>\n",
       "    <tr>\n",
       "      <th>360</th>\n",
       "      <td>In3D</td>\n",
       "      <td>Turn people into realistic avatars. Realistic ...</td>\n",
       "      <td>https://in3d.io/?utm_source=futurepedia</td>\n",
       "    </tr>\n",
       "    <tr>\n",
       "      <th>361</th>\n",
       "      <td>Eleven Labs</td>\n",
       "      <td>Future of Voice. The first platform for genera...</td>\n",
       "      <td>http://elevenlabs.io/?utm_source=futurepedia</td>\n",
       "    </tr>\n",
       "  </tbody>\n",
       "</table>\n",
       "<p>362 rows × 3 columns</p>\n",
       "</div>"
      ],
      "text/plain": [
       "           Company_name                                       Company_text  \\\n",
       "0            Writesonic  Writesonic is an AI writer that creates SEO-fr...   \n",
       "1                 Fliki  Create videos from scripts or blog posts using...   \n",
       "2            Palette.fm  Colorize Black and White Pictures\\nAutomatic, ...   \n",
       "3               Podcast                          The AI-generated podcast.   \n",
       "4    Profile Picture AI  Create your perfect profile picture with AI.\\n...   \n",
       "..                  ...                                                ...   \n",
       "357           GGPredict  Raise your CS:GO skills with the power of AI-g...   \n",
       "358           AI-Writer  AI-Writer is the most accurate content generat...   \n",
       "359          DeepMotion  Animate 3D lets you turn videos into 3D animat...   \n",
       "360                In3D  Turn people into realistic avatars. Realistic ...   \n",
       "361         Eleven Labs  Future of Voice. The first platform for genera...   \n",
       "\n",
       "                                          Company_link  \n",
       "0               https://writesonic.com?via=futurepedia  \n",
       "1                    https://fliki.ai/?via=futurepedia  \n",
       "2           https://palette.fm/?utm_source=futurepedia  \n",
       "3           https://podcast.ai/?utm_source=futurepedia  \n",
       "4       https://www.profilepicture.ai/?via=futurepedia  \n",
       "..                                                 ...  \n",
       "357       https://ggpredict.io/?utm_source=futurepedia  \n",
       "358      https://ai-writer.com/?utm_source=futurepedia  \n",
       "359  https://www.deepmotion.com/?utm_source=futurep...  \n",
       "360            https://in3d.io/?utm_source=futurepedia  \n",
       "361       http://elevenlabs.io/?utm_source=futurepedia  \n",
       "\n",
       "[362 rows x 3 columns]"
      ]
     },
     "metadata": {},
     "output_type": "display_data"
    }
   ],
   "source": [
    "df = pd.DataFrame(\n",
    "    {'Company_name': all_names,\n",
    "     'Company_text': all_bodies,\n",
    "     'Company_link': all_links\n",
    "    })\n",
    "\n",
    "\n",
    "display(df)\n",
    "    \n",
    "#if you wanna save to excel\n",
    "#df.to_excel(\"futurepedia.xlsx\")"
   ]
  },
  {
   "cell_type": "code",
   "execution_count": 143,
   "id": "5f5e86fa",
   "metadata": {},
   "outputs": [
    {
     "data": {
      "text/plain": [
       "0    https://writesonic.com?via=futurepedia\n",
       "Name: Company_link, dtype: object"
      ]
     },
     "execution_count": 143,
     "metadata": {},
     "output_type": "execute_result"
    }
   ],
   "source": [
    "df['Company_link'][0:1]"
   ]
  },
  {
   "cell_type": "code",
   "execution_count": null,
   "id": "59d32e36",
   "metadata": {},
   "outputs": [],
   "source": []
  },
  {
   "cell_type": "code",
   "execution_count": null,
   "id": "17a71bbf",
   "metadata": {},
   "outputs": [],
   "source": []
  },
  {
   "cell_type": "code",
   "execution_count": null,
   "id": "d6a8d786",
   "metadata": {},
   "outputs": [],
   "source": []
  }
 ],
 "metadata": {
  "kernelspec": {
   "display_name": "Python 3 (ipykernel)",
   "language": "python",
   "name": "python3"
  },
  "language_info": {
   "codemirror_mode": {
    "name": "ipython",
    "version": 3
   },
   "file_extension": ".py",
   "mimetype": "text/x-python",
   "name": "python",
   "nbconvert_exporter": "python",
   "pygments_lexer": "ipython3",
   "version": "3.9.12"
  }
 },
 "nbformat": 4,
 "nbformat_minor": 5
}
